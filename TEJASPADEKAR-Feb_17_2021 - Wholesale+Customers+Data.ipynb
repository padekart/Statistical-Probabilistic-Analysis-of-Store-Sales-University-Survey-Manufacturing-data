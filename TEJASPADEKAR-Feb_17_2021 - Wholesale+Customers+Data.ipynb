{
 "cells": [
  {
   "cell_type": "code",
   "execution_count": 17,
   "metadata": {},
   "outputs": [],
   "source": [
    "import pandas as pd\n",
    "import numpy as np\n",
    "import seaborn as sns\n",
    "sns.set_palette(\"deep\")\n",
    "from warnings import filterwarnings\n",
    "filterwarnings(\"ignore\")\n",
    "import matplotlib.pyplot as plt\n",
    "%matplotlib inline\n",
    "import math\n",
    "from scipy import stats\n",
    "import scipy.stats as ss\n",
    "from statistics import stdev\n",
    "from scipy.stats import ttest_1samp, ttest_ind\n",
    "from scipy.stats import chi2_contingency\n",
    "from scipy.stats import ttest_rel\n",
    "import statsmodels.stats.api as sm"
   ]
  },
  {
   "cell_type": "code",
   "execution_count": 18,
   "metadata": {},
   "outputs": [],
   "source": [
    "wcd = pd.read_csv('Wholesale+Customers+Data.csv')"
   ]
  },
  {
   "cell_type": "code",
   "execution_count": 19,
   "metadata": {},
   "outputs": [
    {
     "data": {
      "text/plain": [
       "Buyer/Spender       0\n",
       "Channel             0\n",
       "Region              0\n",
       "Fresh               0\n",
       "Milk                0\n",
       "Grocery             0\n",
       "Frozen              0\n",
       "Detergents_Paper    0\n",
       "Delicatessen        0\n",
       "Total               0\n",
       "dtype: int64"
      ]
     },
     "execution_count": 19,
     "metadata": {},
     "output_type": "execute_result"
    }
   ],
   "source": [
    "wcd.isnull().sum()"
   ]
  },
  {
   "cell_type": "markdown",
   "metadata": {},
   "source": [
    "# 1.1.1 Use methods of descriptive statistics to summarize data"
   ]
  },
  {
   "cell_type": "code",
   "execution_count": 20,
   "metadata": {},
   "outputs": [
    {
     "data": {
      "text/html": [
       "<div>\n",
       "<style scoped>\n",
       "    .dataframe tbody tr th:only-of-type {\n",
       "        vertical-align: middle;\n",
       "    }\n",
       "\n",
       "    .dataframe tbody tr th {\n",
       "        vertical-align: top;\n",
       "    }\n",
       "\n",
       "    .dataframe thead th {\n",
       "        text-align: right;\n",
       "    }\n",
       "</style>\n",
       "<table border=\"1\" class=\"dataframe\">\n",
       "  <thead>\n",
       "    <tr style=\"text-align: right;\">\n",
       "      <th></th>\n",
       "      <th>count</th>\n",
       "      <th>mean</th>\n",
       "      <th>std</th>\n",
       "      <th>min</th>\n",
       "      <th>25%</th>\n",
       "      <th>50%</th>\n",
       "      <th>75%</th>\n",
       "      <th>max</th>\n",
       "    </tr>\n",
       "  </thead>\n",
       "  <tbody>\n",
       "    <tr>\n",
       "      <th>Buyer/Spender</th>\n",
       "      <td>440.0</td>\n",
       "      <td>220.500000</td>\n",
       "      <td>127.161315</td>\n",
       "      <td>1.0</td>\n",
       "      <td>110.75</td>\n",
       "      <td>220.5</td>\n",
       "      <td>330.25</td>\n",
       "      <td>440.0</td>\n",
       "    </tr>\n",
       "    <tr>\n",
       "      <th>Fresh</th>\n",
       "      <td>440.0</td>\n",
       "      <td>12000.297727</td>\n",
       "      <td>12647.328865</td>\n",
       "      <td>3.0</td>\n",
       "      <td>3127.75</td>\n",
       "      <td>8504.0</td>\n",
       "      <td>16933.75</td>\n",
       "      <td>112151.0</td>\n",
       "    </tr>\n",
       "    <tr>\n",
       "      <th>Milk</th>\n",
       "      <td>440.0</td>\n",
       "      <td>5796.265909</td>\n",
       "      <td>7380.377175</td>\n",
       "      <td>55.0</td>\n",
       "      <td>1533.00</td>\n",
       "      <td>3627.0</td>\n",
       "      <td>7190.25</td>\n",
       "      <td>73498.0</td>\n",
       "    </tr>\n",
       "    <tr>\n",
       "      <th>Grocery</th>\n",
       "      <td>440.0</td>\n",
       "      <td>7951.277273</td>\n",
       "      <td>9503.162829</td>\n",
       "      <td>3.0</td>\n",
       "      <td>2153.00</td>\n",
       "      <td>4755.5</td>\n",
       "      <td>10655.75</td>\n",
       "      <td>92780.0</td>\n",
       "    </tr>\n",
       "    <tr>\n",
       "      <th>Frozen</th>\n",
       "      <td>440.0</td>\n",
       "      <td>3071.931818</td>\n",
       "      <td>4854.673333</td>\n",
       "      <td>25.0</td>\n",
       "      <td>742.25</td>\n",
       "      <td>1526.0</td>\n",
       "      <td>3554.25</td>\n",
       "      <td>60869.0</td>\n",
       "    </tr>\n",
       "    <tr>\n",
       "      <th>Detergents_Paper</th>\n",
       "      <td>440.0</td>\n",
       "      <td>2881.493182</td>\n",
       "      <td>4767.854448</td>\n",
       "      <td>3.0</td>\n",
       "      <td>256.75</td>\n",
       "      <td>816.5</td>\n",
       "      <td>3922.00</td>\n",
       "      <td>40827.0</td>\n",
       "    </tr>\n",
       "    <tr>\n",
       "      <th>Delicatessen</th>\n",
       "      <td>440.0</td>\n",
       "      <td>1524.870455</td>\n",
       "      <td>2820.105937</td>\n",
       "      <td>3.0</td>\n",
       "      <td>408.25</td>\n",
       "      <td>965.5</td>\n",
       "      <td>1820.25</td>\n",
       "      <td>47943.0</td>\n",
       "    </tr>\n",
       "    <tr>\n",
       "      <th>Total</th>\n",
       "      <td>440.0</td>\n",
       "      <td>33226.136364</td>\n",
       "      <td>26356.301730</td>\n",
       "      <td>904.0</td>\n",
       "      <td>17448.75</td>\n",
       "      <td>27492.0</td>\n",
       "      <td>41307.50</td>\n",
       "      <td>199891.0</td>\n",
       "    </tr>\n",
       "  </tbody>\n",
       "</table>\n",
       "</div>"
      ],
      "text/plain": [
       "                  count          mean           std    min       25%      50%  \\\n",
       "Buyer/Spender     440.0    220.500000    127.161315    1.0    110.75    220.5   \n",
       "Fresh             440.0  12000.297727  12647.328865    3.0   3127.75   8504.0   \n",
       "Milk              440.0   5796.265909   7380.377175   55.0   1533.00   3627.0   \n",
       "Grocery           440.0   7951.277273   9503.162829    3.0   2153.00   4755.5   \n",
       "Frozen            440.0   3071.931818   4854.673333   25.0    742.25   1526.0   \n",
       "Detergents_Paper  440.0   2881.493182   4767.854448    3.0    256.75    816.5   \n",
       "Delicatessen      440.0   1524.870455   2820.105937    3.0    408.25    965.5   \n",
       "Total             440.0  33226.136364  26356.301730  904.0  17448.75  27492.0   \n",
       "\n",
       "                       75%       max  \n",
       "Buyer/Spender       330.25     440.0  \n",
       "Fresh             16933.75  112151.0  \n",
       "Milk               7190.25   73498.0  \n",
       "Grocery           10655.75   92780.0  \n",
       "Frozen             3554.25   60869.0  \n",
       "Detergents_Paper   3922.00   40827.0  \n",
       "Delicatessen       1820.25   47943.0  \n",
       "Total             41307.50  199891.0  "
      ]
     },
     "execution_count": 20,
     "metadata": {},
     "output_type": "execute_result"
    }
   ],
   "source": [
    "wcd.describe().T"
   ]
  },
  {
   "cell_type": "markdown",
   "metadata": {},
   "source": [
    "# 1.1.2 Which Region and which Channel spent the most?\n",
    "# 1.1.3 Which Region and which Channel spent the least?"
   ]
  },
  {
   "cell_type": "code",
   "execution_count": 21,
   "metadata": {},
   "outputs": [
    {
     "data": {
      "text/html": [
       "<div>\n",
       "<style scoped>\n",
       "    .dataframe tbody tr th:only-of-type {\n",
       "        vertical-align: middle;\n",
       "    }\n",
       "\n",
       "    .dataframe tbody tr th {\n",
       "        vertical-align: top;\n",
       "    }\n",
       "\n",
       "    .dataframe thead th {\n",
       "        text-align: right;\n",
       "    }\n",
       "</style>\n",
       "<table border=\"1\" class=\"dataframe\">\n",
       "  <thead>\n",
       "    <tr style=\"text-align: right;\">\n",
       "      <th></th>\n",
       "      <th>Buyer/Spender</th>\n",
       "      <th>Channel</th>\n",
       "      <th>Region</th>\n",
       "      <th>Fresh</th>\n",
       "      <th>Milk</th>\n",
       "      <th>Grocery</th>\n",
       "      <th>Frozen</th>\n",
       "      <th>Detergents_Paper</th>\n",
       "      <th>Delicatessen</th>\n",
       "      <th>Total</th>\n",
       "    </tr>\n",
       "  </thead>\n",
       "  <tbody>\n",
       "    <tr>\n",
       "      <th>0</th>\n",
       "      <td>1</td>\n",
       "      <td>Retail</td>\n",
       "      <td>Other</td>\n",
       "      <td>12669</td>\n",
       "      <td>9656</td>\n",
       "      <td>7561</td>\n",
       "      <td>214</td>\n",
       "      <td>2674</td>\n",
       "      <td>1338</td>\n",
       "      <td>34112</td>\n",
       "    </tr>\n",
       "    <tr>\n",
       "      <th>1</th>\n",
       "      <td>2</td>\n",
       "      <td>Retail</td>\n",
       "      <td>Other</td>\n",
       "      <td>7057</td>\n",
       "      <td>9810</td>\n",
       "      <td>9568</td>\n",
       "      <td>1762</td>\n",
       "      <td>3293</td>\n",
       "      <td>1776</td>\n",
       "      <td>33266</td>\n",
       "    </tr>\n",
       "    <tr>\n",
       "      <th>2</th>\n",
       "      <td>3</td>\n",
       "      <td>Retail</td>\n",
       "      <td>Other</td>\n",
       "      <td>6353</td>\n",
       "      <td>8808</td>\n",
       "      <td>7684</td>\n",
       "      <td>2405</td>\n",
       "      <td>3516</td>\n",
       "      <td>7844</td>\n",
       "      <td>36610</td>\n",
       "    </tr>\n",
       "    <tr>\n",
       "      <th>3</th>\n",
       "      <td>4</td>\n",
       "      <td>Hotel</td>\n",
       "      <td>Other</td>\n",
       "      <td>13265</td>\n",
       "      <td>1196</td>\n",
       "      <td>4221</td>\n",
       "      <td>6404</td>\n",
       "      <td>507</td>\n",
       "      <td>1788</td>\n",
       "      <td>27381</td>\n",
       "    </tr>\n",
       "    <tr>\n",
       "      <th>4</th>\n",
       "      <td>5</td>\n",
       "      <td>Retail</td>\n",
       "      <td>Other</td>\n",
       "      <td>22615</td>\n",
       "      <td>5410</td>\n",
       "      <td>7198</td>\n",
       "      <td>3915</td>\n",
       "      <td>1777</td>\n",
       "      <td>5185</td>\n",
       "      <td>46100</td>\n",
       "    </tr>\n",
       "    <tr>\n",
       "      <th>...</th>\n",
       "      <td>...</td>\n",
       "      <td>...</td>\n",
       "      <td>...</td>\n",
       "      <td>...</td>\n",
       "      <td>...</td>\n",
       "      <td>...</td>\n",
       "      <td>...</td>\n",
       "      <td>...</td>\n",
       "      <td>...</td>\n",
       "      <td>...</td>\n",
       "    </tr>\n",
       "    <tr>\n",
       "      <th>435</th>\n",
       "      <td>436</td>\n",
       "      <td>Hotel</td>\n",
       "      <td>Other</td>\n",
       "      <td>29703</td>\n",
       "      <td>12051</td>\n",
       "      <td>16027</td>\n",
       "      <td>13135</td>\n",
       "      <td>182</td>\n",
       "      <td>2204</td>\n",
       "      <td>73302</td>\n",
       "    </tr>\n",
       "    <tr>\n",
       "      <th>436</th>\n",
       "      <td>437</td>\n",
       "      <td>Hotel</td>\n",
       "      <td>Other</td>\n",
       "      <td>39228</td>\n",
       "      <td>1431</td>\n",
       "      <td>764</td>\n",
       "      <td>4510</td>\n",
       "      <td>93</td>\n",
       "      <td>2346</td>\n",
       "      <td>48372</td>\n",
       "    </tr>\n",
       "    <tr>\n",
       "      <th>437</th>\n",
       "      <td>438</td>\n",
       "      <td>Retail</td>\n",
       "      <td>Other</td>\n",
       "      <td>14531</td>\n",
       "      <td>15488</td>\n",
       "      <td>30243</td>\n",
       "      <td>437</td>\n",
       "      <td>14841</td>\n",
       "      <td>1867</td>\n",
       "      <td>77407</td>\n",
       "    </tr>\n",
       "    <tr>\n",
       "      <th>438</th>\n",
       "      <td>439</td>\n",
       "      <td>Hotel</td>\n",
       "      <td>Other</td>\n",
       "      <td>10290</td>\n",
       "      <td>1981</td>\n",
       "      <td>2232</td>\n",
       "      <td>1038</td>\n",
       "      <td>168</td>\n",
       "      <td>2125</td>\n",
       "      <td>17834</td>\n",
       "    </tr>\n",
       "    <tr>\n",
       "      <th>439</th>\n",
       "      <td>440</td>\n",
       "      <td>Hotel</td>\n",
       "      <td>Other</td>\n",
       "      <td>2787</td>\n",
       "      <td>1698</td>\n",
       "      <td>2510</td>\n",
       "      <td>65</td>\n",
       "      <td>477</td>\n",
       "      <td>52</td>\n",
       "      <td>7589</td>\n",
       "    </tr>\n",
       "  </tbody>\n",
       "</table>\n",
       "<p>440 rows × 10 columns</p>\n",
       "</div>"
      ],
      "text/plain": [
       "     Buyer/Spender Channel Region  Fresh   Milk  Grocery  Frozen  \\\n",
       "0                1  Retail  Other  12669   9656     7561     214   \n",
       "1                2  Retail  Other   7057   9810     9568    1762   \n",
       "2                3  Retail  Other   6353   8808     7684    2405   \n",
       "3                4   Hotel  Other  13265   1196     4221    6404   \n",
       "4                5  Retail  Other  22615   5410     7198    3915   \n",
       "..             ...     ...    ...    ...    ...      ...     ...   \n",
       "435            436   Hotel  Other  29703  12051    16027   13135   \n",
       "436            437   Hotel  Other  39228   1431      764    4510   \n",
       "437            438  Retail  Other  14531  15488    30243     437   \n",
       "438            439   Hotel  Other  10290   1981     2232    1038   \n",
       "439            440   Hotel  Other   2787   1698     2510      65   \n",
       "\n",
       "     Detergents_Paper  Delicatessen  Total  \n",
       "0                2674          1338  34112  \n",
       "1                3293          1776  33266  \n",
       "2                3516          7844  36610  \n",
       "3                 507          1788  27381  \n",
       "4                1777          5185  46100  \n",
       "..                ...           ...    ...  \n",
       "435               182          2204  73302  \n",
       "436                93          2346  48372  \n",
       "437             14841          1867  77407  \n",
       "438               168          2125  17834  \n",
       "439               477            52   7589  \n",
       "\n",
       "[440 rows x 10 columns]"
      ]
     },
     "execution_count": 21,
     "metadata": {},
     "output_type": "execute_result"
    }
   ],
   "source": [
    "wcd_new = wcd.copy()\n",
    "wcd_new['Total']= wcd_new[\"Fresh\"] + wcd_new[\"Milk\"] + wcd_new[\"Grocery\"] + wcd_new[\"Frozen\"] + wcd_new[\"Detergents_Paper\"] + wcd_new[\"Delicatessen\"]\n",
    "wcd_new"
   ]
  },
  {
   "cell_type": "code",
   "execution_count": 22,
   "metadata": {},
   "outputs": [
    {
     "data": {
      "text/plain": [
       "Region\n",
       "Lisbon     2386813\n",
       "Oporto     1555088\n",
       "Other     10677599\n",
       "Name: Total, dtype: int64"
      ]
     },
     "execution_count": 22,
     "metadata": {},
     "output_type": "execute_result"
    }
   ],
   "source": [
    "wcd_new.groupby('Region') ['Total'].sum()"
   ]
  },
  {
   "cell_type": "code",
   "execution_count": 23,
   "metadata": {},
   "outputs": [
    {
     "data": {
      "text/plain": [
       "Channel\n",
       "Hotel     7999569\n",
       "Retail    6619931\n",
       "Name: Total, dtype: int64"
      ]
     },
     "execution_count": 23,
     "metadata": {},
     "output_type": "execute_result"
    }
   ],
   "source": [
    "wcd_new.groupby('Channel') ['Total'].sum()"
   ]
  },
  {
   "cell_type": "markdown",
   "metadata": {},
   "source": [
    "The Region which has spent the most is 'Other' with a total of approx 10.68 million followed by Lisbon at 2.39 million. Oporto was the least spending region with 1.56 million.  \n",
    "\n",
    "Channel wise the most spending was done by the Hotel at 8 million making Retail channel the least spending with total of 6.62 million. "
   ]
  },
  {
   "cell_type": "markdown",
   "metadata": {},
   "source": [
    "# 1.2. There are 6 different varieties of items that are considered. Describe and comment/explain all the varieties across Region and Channel? Provide a detailed justification for your answer."
   ]
  },
  {
   "cell_type": "code",
   "execution_count": 24,
   "metadata": {},
   "outputs": [
    {
     "data": {
      "text/html": [
       "<div>\n",
       "<style scoped>\n",
       "    .dataframe tbody tr th:only-of-type {\n",
       "        vertical-align: middle;\n",
       "    }\n",
       "\n",
       "    .dataframe tbody tr th {\n",
       "        vertical-align: top;\n",
       "    }\n",
       "\n",
       "    .dataframe thead tr th {\n",
       "        text-align: left;\n",
       "    }\n",
       "</style>\n",
       "<table border=\"1\" class=\"dataframe\">\n",
       "  <thead>\n",
       "    <tr>\n",
       "      <th></th>\n",
       "      <th>Region</th>\n",
       "      <th colspan=\"2\" halign=\"left\">Lisbon</th>\n",
       "      <th colspan=\"2\" halign=\"left\">Oporto</th>\n",
       "      <th colspan=\"2\" halign=\"left\">Other</th>\n",
       "    </tr>\n",
       "    <tr>\n",
       "      <th></th>\n",
       "      <th>Channel</th>\n",
       "      <th>Hotel</th>\n",
       "      <th>Retail</th>\n",
       "      <th>Hotel</th>\n",
       "      <th>Retail</th>\n",
       "      <th>Hotel</th>\n",
       "      <th>Retail</th>\n",
       "    </tr>\n",
       "  </thead>\n",
       "  <tbody>\n",
       "    <tr>\n",
       "      <th rowspan=\"5\" valign=\"top\">Buyer/Spender</th>\n",
       "      <th>count</th>\n",
       "      <td>59.000000</td>\n",
       "      <td>18.000000</td>\n",
       "      <td>28.00000</td>\n",
       "      <td>19.000000</td>\n",
       "      <td>211.000000</td>\n",
       "      <td>105.000000</td>\n",
       "    </tr>\n",
       "    <tr>\n",
       "      <th>mean</th>\n",
       "      <td>237.728814</td>\n",
       "      <td>226.055556</td>\n",
       "      <td>321.00000</td>\n",
       "      <td>311.105263</td>\n",
       "      <td>227.582938</td>\n",
       "      <td>152.438095</td>\n",
       "    </tr>\n",
       "    <tr>\n",
       "      <th>std</th>\n",
       "      <td>21.411269</td>\n",
       "      <td>23.725073</td>\n",
       "      <td>12.26256</td>\n",
       "      <td>13.904015</td>\n",
       "      <td>139.651493</td>\n",
       "      <td>138.867530</td>\n",
       "    </tr>\n",
       "    <tr>\n",
       "      <th>min</th>\n",
       "      <td>197.000000</td>\n",
       "      <td>198.000000</td>\n",
       "      <td>295.00000</td>\n",
       "      <td>294.000000</td>\n",
       "      <td>4.000000</td>\n",
       "      <td>1.000000</td>\n",
       "    </tr>\n",
       "    <tr>\n",
       "      <th>25%</th>\n",
       "      <td>221.500000</td>\n",
       "      <td>208.500000</td>\n",
       "      <td>313.50000</td>\n",
       "      <td>301.500000</td>\n",
       "      <td>113.500000</td>\n",
       "      <td>46.000000</td>\n",
       "    </tr>\n",
       "    <tr>\n",
       "      <th>...</th>\n",
       "      <th>...</th>\n",
       "      <td>...</td>\n",
       "      <td>...</td>\n",
       "      <td>...</td>\n",
       "      <td>...</td>\n",
       "      <td>...</td>\n",
       "      <td>...</td>\n",
       "    </tr>\n",
       "    <tr>\n",
       "      <th rowspan=\"5\" valign=\"top\">Total</th>\n",
       "      <th>min</th>\n",
       "      <td>4925.000000</td>\n",
       "      <td>18342.000000</td>\n",
       "      <td>4129.00000</td>\n",
       "      <td>17598.000000</td>\n",
       "      <td>904.000000</td>\n",
       "      <td>14993.000000</td>\n",
       "    </tr>\n",
       "    <tr>\n",
       "      <th>25%</th>\n",
       "      <td>15392.500000</td>\n",
       "      <td>33649.500000</td>\n",
       "      <td>16786.00000</td>\n",
       "      <td>29264.000000</td>\n",
       "      <td>13485.000000</td>\n",
       "      <td>30091.000000</td>\n",
       "    </tr>\n",
       "    <tr>\n",
       "      <th>50%</th>\n",
       "      <td>22287.000000</td>\n",
       "      <td>41989.000000</td>\n",
       "      <td>22134.50000</td>\n",
       "      <td>36446.000000</td>\n",
       "      <td>19789.000000</td>\n",
       "      <td>37085.000000</td>\n",
       "    </tr>\n",
       "    <tr>\n",
       "      <th>75%</th>\n",
       "      <td>30188.500000</td>\n",
       "      <td>52830.500000</td>\n",
       "      <td>28781.25000</td>\n",
       "      <td>50788.500000</td>\n",
       "      <td>33593.500000</td>\n",
       "      <td>51064.000000</td>\n",
       "    </tr>\n",
       "    <tr>\n",
       "      <th>max</th>\n",
       "      <td>73243.000000</td>\n",
       "      <td>107155.000000</td>\n",
       "      <td>130877.00000</td>\n",
       "      <td>120291.000000</td>\n",
       "      <td>190169.000000</td>\n",
       "      <td>199891.000000</td>\n",
       "    </tr>\n",
       "  </tbody>\n",
       "</table>\n",
       "<p>64 rows × 6 columns</p>\n",
       "</div>"
      ],
      "text/plain": [
       "Region                     Lisbon                       Oporto                 \\\n",
       "Channel                     Hotel         Retail         Hotel         Retail   \n",
       "Buyer/Spender count     59.000000      18.000000      28.00000      19.000000   \n",
       "              mean     237.728814     226.055556     321.00000     311.105263   \n",
       "              std       21.411269      23.725073      12.26256      13.904015   \n",
       "              min      197.000000     198.000000     295.00000     294.000000   \n",
       "              25%      221.500000     208.500000     313.50000     301.500000   \n",
       "...                           ...            ...           ...            ...   \n",
       "Total         min     4925.000000   18342.000000    4129.00000   17598.000000   \n",
       "              25%    15392.500000   33649.500000   16786.00000   29264.000000   \n",
       "              50%    22287.000000   41989.000000   22134.50000   36446.000000   \n",
       "              75%    30188.500000   52830.500000   28781.25000   50788.500000   \n",
       "              max    73243.000000  107155.000000  130877.00000  120291.000000   \n",
       "\n",
       "Region                       Other                 \n",
       "Channel                      Hotel         Retail  \n",
       "Buyer/Spender count     211.000000     105.000000  \n",
       "              mean      227.582938     152.438095  \n",
       "              std       139.651493     138.867530  \n",
       "              min         4.000000       1.000000  \n",
       "              25%       113.500000      46.000000  \n",
       "...                            ...            ...  \n",
       "Total         min       904.000000   14993.000000  \n",
       "              25%     13485.000000   30091.000000  \n",
       "              50%     19789.000000   37085.000000  \n",
       "              75%     33593.500000   51064.000000  \n",
       "              max    190169.000000  199891.000000  \n",
       "\n",
       "[64 rows x 6 columns]"
      ]
     },
     "execution_count": 24,
     "metadata": {},
     "output_type": "execute_result"
    }
   ],
   "source": [
    "wcd.groupby([\"Region\", \"Channel\"]).describe().T"
   ]
  },
  {
   "cell_type": "code",
   "execution_count": 25,
   "metadata": {},
   "outputs": [
    {
     "data": {
      "text/plain": [
       "Region  Channel\n",
       "Lisbon  Hotel       59\n",
       "        Retail      18\n",
       "Oporto  Hotel       28\n",
       "        Retail      19\n",
       "Other   Hotel      211\n",
       "        Retail     105\n",
       "dtype: int64"
      ]
     },
     "execution_count": 25,
     "metadata": {},
     "output_type": "execute_result"
    }
   ],
   "source": [
    "wcd_new.groupby([\"Region\",\"Channel\"]).size()"
   ]
  },
  {
   "cell_type": "code",
   "execution_count": 26,
   "metadata": {},
   "outputs": [
    {
     "data": {
      "text/plain": [
       "Region  Channel\n",
       "Lisbon  Hotel      1538342\n",
       "        Retail      848471\n",
       "Oporto  Hotel       719150\n",
       "        Retail      835938\n",
       "Other   Hotel      5742077\n",
       "        Retail     4935522\n",
       "Name: Total, dtype: int64"
      ]
     },
     "execution_count": 26,
     "metadata": {},
     "output_type": "execute_result"
    }
   ],
   "source": [
    "wcd_new.groupby(['Region', 'Channel']) ['Total'].sum()"
   ]
  },
  {
   "cell_type": "code",
   "execution_count": 27,
   "metadata": {},
   "outputs": [
    {
     "data": {
      "text/plain": [
       "Region  Channel\n",
       "Lisbon  Hotel      26073.593220\n",
       "        Retail     47137.277778\n",
       "Oporto  Hotel      25683.928571\n",
       "        Retail     43996.736842\n",
       "Other   Hotel      27213.635071\n",
       "        Retail     47004.971429\n",
       "Name: Total, dtype: float64"
      ]
     },
     "execution_count": 27,
     "metadata": {},
     "output_type": "execute_result"
    }
   ],
   "source": [
    "wcd_new.groupby(['Region', 'Channel']) ['Total'].mean()"
   ]
  },
  {
   "cell_type": "code",
   "execution_count": 28,
   "metadata": {},
   "outputs": [
    {
     "data": {
      "text/plain": [
       "Region  Channel\n",
       "Lisbon  Hotel      16484.700897\n",
       "        Retail     23646.468894\n",
       "Oporto  Hotel      22572.594954\n",
       "        Retail     22928.934726\n",
       "Other   Hotel      23532.179828\n",
       "        Retail     31365.497377\n",
       "Name: Total, dtype: float64"
      ]
     },
     "execution_count": 28,
     "metadata": {},
     "output_type": "execute_result"
    }
   ],
   "source": [
    "wcd_new.groupby(['Region', 'Channel']) ['Total'].std()"
   ]
  },
  {
   "cell_type": "code",
   "execution_count": 29,
   "metadata": {},
   "outputs": [
    {
     "data": {
      "text/plain": [
       "array([[<AxesSubplot:title={'center':'Buyer/Spender'}>,\n",
       "        <AxesSubplot:title={'center':'Fresh'}>,\n",
       "        <AxesSubplot:title={'center':'Milk'}>],\n",
       "       [<AxesSubplot:title={'center':'Grocery'}>,\n",
       "        <AxesSubplot:title={'center':'Frozen'}>,\n",
       "        <AxesSubplot:title={'center':'Detergents_Paper'}>],\n",
       "       [<AxesSubplot:title={'center':'Delicatessen'}>,\n",
       "        <AxesSubplot:title={'center':'Total'}>, <AxesSubplot:>]],\n",
       "      dtype=object)"
      ]
     },
     "execution_count": 29,
     "metadata": {},
     "output_type": "execute_result"
    },
    {
     "data": {
      "image/png": "[encoded data removed]",
      "text/plain": [
       "<Figure size 864x720 with 9 Axes>"
      ]
     },
     "metadata": {
      "needs_background": "light"
     },
     "output_type": "display_data"
    }
   ],
   "source": [
    "wcd.hist(figsize=(12,10))"
   ]
  },
  {
   "cell_type": "code",
   "execution_count": 30,
   "metadata": {},
   "outputs": [
    {
     "data": {
      "text/html": [
       "<div>\n",
       "<style scoped>\n",
       "    .dataframe tbody tr th:only-of-type {\n",
       "        vertical-align: middle;\n",
       "    }\n",
       "\n",
       "    .dataframe tbody tr th {\n",
       "        vertical-align: top;\n",
       "    }\n",
       "\n",
       "    .dataframe thead th {\n",
       "        text-align: right;\n",
       "    }\n",
       "</style>\n",
       "<table border=\"1\" class=\"dataframe\">\n",
       "  <thead>\n",
       "    <tr style=\"text-align: right;\">\n",
       "      <th></th>\n",
       "      <th>Skewness</th>\n",
       "    </tr>\n",
       "  </thead>\n",
       "  <tbody>\n",
       "    <tr>\n",
       "      <th>Fresh</th>\n",
       "      <td>2.552583</td>\n",
       "    </tr>\n",
       "    <tr>\n",
       "      <th>Milk</th>\n",
       "      <td>4.039922</td>\n",
       "    </tr>\n",
       "    <tr>\n",
       "      <th>Grocery</th>\n",
       "      <td>3.575187</td>\n",
       "    </tr>\n",
       "    <tr>\n",
       "      <th>Frozen</th>\n",
       "      <td>5.887826</td>\n",
       "    </tr>\n",
       "    <tr>\n",
       "      <th>Detergents_Paper</th>\n",
       "      <td>3.619458</td>\n",
       "    </tr>\n",
       "    <tr>\n",
       "      <th>Delicatessen</th>\n",
       "      <td>11.113534</td>\n",
       "    </tr>\n",
       "  </tbody>\n",
       "</table>\n",
       "</div>"
      ],
      "text/plain": [
       "                   Skewness\n",
       "Fresh              2.552583\n",
       "Milk               4.039922\n",
       "Grocery            3.575187\n",
       "Frozen             5.887826\n",
       "Detergents_Paper   3.619458\n",
       "Delicatessen      11.113534"
      ]
     },
     "execution_count": 30,
     "metadata": {},
     "output_type": "execute_result"
    }
   ],
   "source": [
    "Skewness = pd.DataFrame({'Skewness' : [stats.skew(wcd.Fresh),stats.skew(wcd.Milk),stats.skew(wcd.Grocery),stats.skew(wcd.Frozen),stats.skew(wcd.Detergents_Paper),stats.skew(wcd.Delicatessen)]},\n",
    "                        index=['Fresh','Milk','Grocery','Frozen','Detergents_Paper','Delicatessen']) \n",
    "Skewness"
   ]
  },
  {
   "cell_type": "markdown",
   "metadata": {},
   "source": [
    "All the variables are highly skewed"
   ]
  },
  {
   "cell_type": "markdown",
   "metadata": {},
   "source": [
    "# 1.3 On the basis of the descriptive measure of variability, which item shows the most inconsistent behaviour? Which items shows the least inconsistent behaviour?"
   ]
  },
  {
   "cell_type": "markdown",
   "metadata": {},
   "source": [
    "We will calculate the Coefficient of variation (CV) for each of the 6 variables to help determine which variable is the most inconsistent and which variable is the most consistant. \n",
    "\n",
    "Each of the variable is segregated together based on the region and channel in which it is consumed. Then we will take the avg of region and channel wise segregated variable to determine a single parameter to compare each variable with each other. "
   ]
  },
  {
   "cell_type": "markdown",
   "metadata": {},
   "source": [
    "## CV for variable Fresh"
   ]
  },
  {
   "cell_type": "code",
   "execution_count": 31,
   "metadata": {},
   "outputs": [
    {
     "name": "stdout",
     "output_type": "stream",
     "text": [
      "CV for Fresh: Region  Channel\n",
      "Lisbon  Hotel       95.657772\n",
      "        Retail     104.144644\n",
      "Oporto  Hotel       76.986698\n",
      "        Retail      94.213071\n",
      "Other   Hotel      106.258233\n",
      "        Retail      98.005284\n",
      "Name: Fresh, dtype: float64\n"
     ]
    }
   ],
   "source": [
    "print('CV for Fresh:', wcd.groupby([\"Region\", \"Channel\"]) ['Fresh'].std() / wcd.groupby([\"Region\", \"Channel\"]) ['Fresh'].mean()*100)"
   ]
  },
  {
   "cell_type": "code",
   "execution_count": 32,
   "metadata": {},
   "outputs": [
    {
     "name": "stdout",
     "output_type": "stream",
     "text": [
      "Range of CV for variable Fresh is: 29.271535\n"
     ]
    }
   ],
   "source": [
    "# Range of CV for variable Fresh\n",
    "R_CV_Fresh = (106.258233 - 76.986698)\n",
    "print ('Range of CV for variable Fresh is:',R_CV_Fresh)"
   ]
  },
  {
   "cell_type": "markdown",
   "metadata": {},
   "source": [
    "## CV for variable Milk"
   ]
  },
  {
   "cell_type": "code",
   "execution_count": 33,
   "metadata": {},
   "outputs": [
    {
     "name": "stdout",
     "output_type": "stream",
     "text": [
      "CV for Milk: Region  Channel\n",
      "Lisbon  Hotel      111.061894\n",
      "        Retail      61.287291\n",
      "Oporto  Hotel      128.832752\n",
      "        Retail      71.934562\n",
      "Other   Hotel      129.295377\n",
      "        Retail      96.301047\n",
      "Name: Milk, dtype: float64\n"
     ]
    }
   ],
   "source": [
    "print('CV for Milk:', wcd.groupby([\"Region\", \"Channel\"]) ['Milk'].std() / wcd.groupby([\"Region\", \"Channel\"]) ['Milk'].mean()*100)"
   ]
  },
  {
   "cell_type": "code",
   "execution_count": 34,
   "metadata": {},
   "outputs": [
    {
     "name": "stdout",
     "output_type": "stream",
     "text": [
      "Range of CV for variable Milk is: 68.00808599999999\n"
     ]
    }
   ],
   "source": [
    "# Range of CV for variable Milk\n",
    "R_CV_Milk = (129.295377 - 61.287291)\n",
    "print ('Range of CV for variable Milk is:',R_CV_Milk)"
   ]
  },
  {
   "cell_type": "markdown",
   "metadata": {},
   "source": [
    "## CV for variable Grocery"
   ]
  },
  {
   "cell_type": "code",
   "execution_count": 35,
   "metadata": {},
   "outputs": [
    {
     "name": "stdout",
     "output_type": "stream",
     "text": [
      "CV for Grocery: Region  Channel\n",
      "Lisbon  Hotel      90.152059\n",
      "        Retail     56.381113\n",
      "Oporto  Hotel      69.350445\n",
      "        Retail     85.968286\n",
      "Other   Hotel      92.455658\n",
      "        Retail     77.090900\n",
      "Name: Grocery, dtype: float64\n"
     ]
    }
   ],
   "source": [
    "print('CV for Grocery:', wcd.groupby([\"Region\", \"Channel\"]) ['Grocery'].std() / wcd.groupby([\"Region\", \"Channel\"]) ['Grocery'].mean()*100)"
   ]
  },
  {
   "cell_type": "code",
   "execution_count": 36,
   "metadata": {},
   "outputs": [
    {
     "name": "stdout",
     "output_type": "stream",
     "text": [
      "Range of CV for variable Grocery is: 36.074545\n"
     ]
    }
   ],
   "source": [
    "# Range of CV for variable Grocery\n",
    "R_CV_Grocery = (92.455658 - 56.381113)\n",
    "print ('Range of CV for variable Grocery is:',R_CV_Grocery)"
   ]
  },
  {
   "cell_type": "markdown",
   "metadata": {},
   "source": [
    "## CV for variable Frozen"
   ]
  },
  {
   "cell_type": "code",
   "execution_count": 37,
   "metadata": {},
   "outputs": [
    {
     "name": "stdout",
     "output_type": "stream",
     "text": [
      "CV for Frozen: Region  Channel\n",
      "Lisbon  Hotel      104.768875\n",
      "        Retail      93.833991\n",
      "Oporto  Hotel      199.380458\n",
      "        Retail     160.541365\n",
      "Other   Hotel      135.540764\n",
      "        Retail      99.424976\n",
      "Name: Frozen, dtype: float64\n"
     ]
    }
   ],
   "source": [
    "print('CV for Frozen:', wcd.groupby([\"Region\", \"Channel\"]) ['Frozen'].std() / wcd.groupby([\"Region\", \"Channel\"]) ['Frozen'].mean()*100)"
   ]
  },
  {
   "cell_type": "code",
   "execution_count": 38,
   "metadata": {},
   "outputs": [
    {
     "name": "stdout",
     "output_type": "stream",
     "text": [
      "Range of CV for variable Frozen is: 105.546467\n"
     ]
    }
   ],
   "source": [
    "# Range of CV for variable Frozen\n",
    "R_CV_Frozen = (199.380458 - 93.833991)\n",
    "print ('Range of CV for variable Frozen is:',R_CV_Frozen)"
   ]
  },
  {
   "cell_type": "markdown",
   "metadata": {},
   "source": [
    "## CV for variable Detergents_Paper"
   ]
  },
  {
   "cell_type": "code",
   "execution_count": 39,
   "metadata": {},
   "outputs": [
    {
     "name": "stdout",
     "output_type": "stream",
     "text": [
      "CV for Detergents_Paper: Region  Channel\n",
      "Lisbon  Hotel      137.387973\n",
      "        Retail      67.060091\n",
      "Oporto  Hotel       88.108125\n",
      "        Retail      98.531379\n",
      "Other   Hotel      139.823968\n",
      "        Retail      87.286321\n",
      "Name: Detergents_Paper, dtype: float64\n"
     ]
    }
   ],
   "source": [
    "print('CV for Detergents_Paper:', wcd.groupby([\"Region\", \"Channel\"]) ['Detergents_Paper'].std() / wcd.groupby([\"Region\", \"Channel\"]) ['Detergents_Paper'].mean()*100)"
   ]
  },
  {
   "cell_type": "code",
   "execution_count": 40,
   "metadata": {},
   "outputs": [
    {
     "name": "stdout",
     "output_type": "stream",
     "text": [
      "Range of CV for variable Detergents_Paper is: 72.76387700000001\n"
     ]
    }
   ],
   "source": [
    "# Range of CV for variable Detergents_Paper\n",
    "R_CV_Detergents_Paper = (139.823968 - 67.060091)\n",
    "print ('Range of CV for variable Detergents_Paper is:',R_CV_Detergents_Paper)"
   ]
  },
  {
   "cell_type": "markdown",
   "metadata": {},
   "source": [
    "## CV for variable Delicatessen"
   ]
  },
  {
   "cell_type": "code",
   "execution_count": 41,
   "metadata": {},
   "outputs": [
    {
     "name": "stdout",
     "output_type": "stream",
     "text": [
      "CV for Delicatessen: Region  Channel\n",
      "Lisbon  Hotel      101.903915\n",
      "        Retail      86.887550\n",
      "Oporto  Hotel       95.558877\n",
      "        Retail      85.991771\n",
      "Other   Hotel      241.271227\n",
      "        Retail     116.035548\n",
      "Name: Delicatessen, dtype: float64\n"
     ]
    }
   ],
   "source": [
    "print('CV for Delicatessen:', wcd.groupby([\"Region\", \"Channel\"]) ['Delicatessen'].std() / wcd.groupby([\"Region\", \"Channel\"]) ['Delicatessen'].mean()*100)"
   ]
  },
  {
   "cell_type": "code",
   "execution_count": 42,
   "metadata": {},
   "outputs": [
    {
     "name": "stdout",
     "output_type": "stream",
     "text": [
      "Range of CV for variable Delicatessen is: 155.279456\n"
     ]
    }
   ],
   "source": [
    "# Range of CV for variable Delicatessen\n",
    "R_CV_Delicatessen = (241.271227 - 85.991771)\n",
    "print ('Range of CV for variable Delicatessen is:',R_CV_Delicatessen)"
   ]
  },
  {
   "cell_type": "markdown",
   "metadata": {},
   "source": [
    "From the above results of range of CV for each variable, we can see that the range of dispersion is maximum with Delicatessen (155.28). Also, the range of dispersion observed with Fresh is minimum (29.27)\n",
    "\n",
    "Hence, Delicatesse is the most inconsistent variable whereas Fresh is the least inconsistent variable of all."
   ]
  },
  {
   "cell_type": "markdown",
   "metadata": {},
   "source": [
    "# 1.4 Are there any outliers in the data? Back up your answer with a suitable plot/technique with the help of detailed comments."
   ]
  },
  {
   "cell_type": "code",
   "execution_count": 43,
   "metadata": {},
   "outputs": [
    {
     "data": {
      "image/png": "[encoded data removed]",
      "text/plain": [
       "<Figure size 1080x504 with 7 Axes>"
      ]
     },
     "metadata": {
      "needs_background": "light"
     },
     "output_type": "display_data"
    }
   ],
   "source": [
    "data_plot=wcd[wcd.dtypes[wcd.dtypes!='object'].index]\n",
    "fig=plt.figure(figsize=(15,7))\n",
    "for i in range(1,len(data_plot.columns)):\n",
    "   ax=fig.add_subplot(4,4,i+1)\n",
    "   sns.boxplot(data_plot[data_plot.columns[i]])\n",
    "   ax.set_title(data_plot.columns[i],color='Blue')\n",
    "plt.tight_layout()"
   ]
  },
  {
   "cell_type": "markdown",
   "metadata": {},
   "source": [
    "# 1.5 On the basis of your analysis, what are your recommendations for the business? How can your analysis help the business to solve its problem? Answer from the business perspective."
   ]
  },
  {
   "cell_type": "markdown",
   "metadata": {},
   "source": [
    "The earnings coming from all channels and regions are dispersed. Even though they are positively sckewed as can be seen from the boxplot images, it is important that the level of dispersion is significantly reduced. In order to achieve this the range of cost or gap between the min revenue and max revenue has to reduce significantly. \n",
    "\n",
    "In order to obtain the above objective, it can be suggested that should first increase more production of the variables and no of channels distributing the variables at the main regions of Lisbon and Oporta to boost more spending. Oporto which has the least amount of channels (37) still generates good amount of revenue compared to the other two regions. Increasing the no of channels here can significantly increase revenue. \n",
    "\n",
    "Once production is increased at major revenue generating channels, the lesser revenue generating channels should be simultaneously closed or could be used for supplying high revenue generating variables of their region to other regions."
   ]
  }
 ],
 "metadata": {
  "kernelspec": {
   "display_name": "Python 3",
   "language": "python",
   "name": "python3"
  },
  "language_info": {
   "codemirror_mode": {
    "name": "ipython",
    "version": 3
   },
   "file_extension": ".py",
   "mimetype": "text/x-python",
   "name": "python",
   "nbconvert_exporter": "python",
   "pygments_lexer": "ipython3",
   "version": "3.8.5"
  }
 },
 "nbformat": 4,
 "nbformat_minor": 4
}

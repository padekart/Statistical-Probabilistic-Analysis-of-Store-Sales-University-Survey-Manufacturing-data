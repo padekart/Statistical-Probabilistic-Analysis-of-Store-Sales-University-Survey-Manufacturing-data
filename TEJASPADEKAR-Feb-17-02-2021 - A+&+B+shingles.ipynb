{
 "cells": [
  {
   "cell_type": "code",
   "execution_count": 13,
   "metadata": {},
   "outputs": [],
   "source": [
    "import pandas as pd\n",
    "import numpy as np\n",
    "import seaborn as sns\n",
    "sns.set_palette(\"deep\")\n",
    "from warnings import filterwarnings\n",
    "filterwarnings(\"ignore\")\n",
    "import matplotlib.pyplot as plt\n",
    "%matplotlib inline\n",
    "import math\n",
    "from scipy import stats\n",
    "import scipy.stats as ss\n",
    "from scipy.stats import ttest_1samp, ttest_ind\n",
    "from scipy.stats import chi2_contingency\n",
    "from scipy.stats import ttest_rel\n",
    "import statsmodels.stats.api as sm"
   ]
  },
  {
   "cell_type": "code",
   "execution_count": 14,
   "metadata": {},
   "outputs": [],
   "source": [
    "shgl = pd.read_csv('A+&+B+shingles.csv')"
   ]
  },
  {
   "cell_type": "code",
   "execution_count": 15,
   "metadata": {},
   "outputs": [
    {
     "data": {
      "text/plain": [
       "A    0\n",
       "B    5\n",
       "dtype: int64"
      ]
     },
     "execution_count": 15,
     "metadata": {},
     "output_type": "execute_result"
    }
   ],
   "source": [
    "shgl.isnull().sum()"
   ]
  },
  {
   "cell_type": "code",
   "execution_count": 16,
   "metadata": {},
   "outputs": [
    {
     "data": {
      "text/html": [
       "<div>\n",
       "<style scoped>\n",
       "    .dataframe tbody tr th:only-of-type {\n",
       "        vertical-align: middle;\n",
       "    }\n",
       "\n",
       "    .dataframe tbody tr th {\n",
       "        vertical-align: top;\n",
       "    }\n",
       "\n",
       "    .dataframe thead th {\n",
       "        text-align: right;\n",
       "    }\n",
       "</style>\n",
       "<table border=\"1\" class=\"dataframe\">\n",
       "  <thead>\n",
       "    <tr style=\"text-align: right;\">\n",
       "      <th></th>\n",
       "      <th>count</th>\n",
       "      <th>mean</th>\n",
       "      <th>std</th>\n",
       "      <th>min</th>\n",
       "      <th>25%</th>\n",
       "      <th>50%</th>\n",
       "      <th>75%</th>\n",
       "      <th>max</th>\n",
       "    </tr>\n",
       "  </thead>\n",
       "  <tbody>\n",
       "    <tr>\n",
       "      <th>A</th>\n",
       "      <td>36.0</td>\n",
       "      <td>0.316667</td>\n",
       "      <td>0.135731</td>\n",
       "      <td>0.13</td>\n",
       "      <td>0.2075</td>\n",
       "      <td>0.29</td>\n",
       "      <td>0.3925</td>\n",
       "      <td>0.72</td>\n",
       "    </tr>\n",
       "    <tr>\n",
       "      <th>B</th>\n",
       "      <td>31.0</td>\n",
       "      <td>0.273548</td>\n",
       "      <td>0.137296</td>\n",
       "      <td>0.10</td>\n",
       "      <td>0.1600</td>\n",
       "      <td>0.23</td>\n",
       "      <td>0.4000</td>\n",
       "      <td>0.58</td>\n",
       "    </tr>\n",
       "  </tbody>\n",
       "</table>\n",
       "</div>"
      ],
      "text/plain": [
       "   count      mean       std   min     25%   50%     75%   max\n",
       "A   36.0  0.316667  0.135731  0.13  0.2075  0.29  0.3925  0.72\n",
       "B   31.0  0.273548  0.137296  0.10  0.1600  0.23  0.4000  0.58"
      ]
     },
     "execution_count": 16,
     "metadata": {},
     "output_type": "execute_result"
    }
   ],
   "source": [
    "shgl.describe(include='all').T"
   ]
  },
  {
   "cell_type": "markdown",
   "metadata": {},
   "source": [
    "# 3.1 Do you think there is evidence that mean moisture contents in both types of shingles are within the permissible limits? State your conclusions clearly showing all steps."
   ]
  },
  {
   "cell_type": "markdown",
   "metadata": {},
   "source": [
    "Null hypothesis (H0) : mean moisture content <= 0.35\n",
    "\n",
    "Alternative hypothesis (H1) : mean moisture content > 0.35\n",
    "\n",
    "We will consider alpha as 0.05\n",
    "\n",
    "𝜇 equals to 0.35.\n",
    "\n",
    "Below we will find individual P-Value for both A and B shingles using one sample t-test"
   ]
  },
  {
   "cell_type": "markdown",
   "metadata": {},
   "source": [
    "## One Sample T-Test for A Shingles"
   ]
  },
  {
   "cell_type": "code",
   "execution_count": 17,
   "metadata": {},
   "outputs": [
    {
     "data": {
      "text/html": [
       "<div>\n",
       "<style scoped>\n",
       "    .dataframe tbody tr th:only-of-type {\n",
       "        vertical-align: middle;\n",
       "    }\n",
       "\n",
       "    .dataframe tbody tr th {\n",
       "        vertical-align: top;\n",
       "    }\n",
       "\n",
       "    .dataframe thead th {\n",
       "        text-align: right;\n",
       "    }\n",
       "</style>\n",
       "<table border=\"1\" class=\"dataframe\">\n",
       "  <thead>\n",
       "    <tr style=\"text-align: right;\">\n",
       "      <th></th>\n",
       "      <th>A</th>\n",
       "    </tr>\n",
       "  </thead>\n",
       "  <tbody>\n",
       "    <tr>\n",
       "      <th>0</th>\n",
       "      <td>0.44</td>\n",
       "    </tr>\n",
       "    <tr>\n",
       "      <th>1</th>\n",
       "      <td>0.61</td>\n",
       "    </tr>\n",
       "    <tr>\n",
       "      <th>2</th>\n",
       "      <td>0.47</td>\n",
       "    </tr>\n",
       "    <tr>\n",
       "      <th>3</th>\n",
       "      <td>0.30</td>\n",
       "    </tr>\n",
       "    <tr>\n",
       "      <th>4</th>\n",
       "      <td>0.15</td>\n",
       "    </tr>\n",
       "  </tbody>\n",
       "</table>\n",
       "</div>"
      ],
      "text/plain": [
       "      A\n",
       "0  0.44\n",
       "1  0.61\n",
       "2  0.47\n",
       "3  0.30\n",
       "4  0.15"
      ]
     },
     "execution_count": 17,
     "metadata": {},
     "output_type": "execute_result"
    }
   ],
   "source": [
    "df_A = pd.read_csv('A+shingles.csv')\n",
    "df_A.head()"
   ]
  },
  {
   "cell_type": "code",
   "execution_count": 18,
   "metadata": {},
   "outputs": [
    {
     "name": "stdout",
     "output_type": "stream",
     "text": [
      "One sample t test \n",
      "t statistic: [-1.47350463] p value: [0.14955266] \n"
     ]
    }
   ],
   "source": [
    "t_statistic, p_value = ttest_1samp(df_A, 0.35)\n",
    "print('One sample t test \\nt statistic: {0} p value: {1} '.format(t_statistic, p_value))"
   ]
  },
  {
   "cell_type": "code",
   "execution_count": 19,
   "metadata": {},
   "outputs": [
    {
     "name": "stdout",
     "output_type": "stream",
     "text": [
      "Level of significance: 0.05\n",
      "We have no evidence to reject the null hypothesis since p value > Level of significance\n",
      "Our one-sample t-test p-value= [0.14955266]\n"
     ]
    }
   ],
   "source": [
    "alpha_value = 0.05 # Level of significance\n",
    "print('Level of significance: %.2f' %alpha_value)\n",
    "if p_value < alpha_value: \n",
    "    print('We have evidence to reject the null hypothesis since p value < Level of significance')\n",
    "else:\n",
    "    print('We have no evidence to reject the null hypothesis since p value > Level of significance') \n",
    "\n",
    "print (\"Our one-sample t-test p-value=\", p_value)"
   ]
  },
  {
   "cell_type": "markdown",
   "metadata": {},
   "source": [
    "In this example, p value is 0.14955266 and it is greater than 5% level of significance\n",
    "\n",
    "So the statistical decision is failing to reject the null hypothesis at 5% level of significance.\n",
    "\n",
    "### So at 95% confidence level, there is  sufficient evidence  to prove that mean moisture contents in A types of shingles are within the permissible limits of 0.35"
   ]
  },
  {
   "cell_type": "markdown",
   "metadata": {},
   "source": [
    "## One Sample T-Test for B Shingles"
   ]
  },
  {
   "cell_type": "code",
   "execution_count": 20,
   "metadata": {},
   "outputs": [
    {
     "data": {
      "text/html": [
       "<div>\n",
       "<style scoped>\n",
       "    .dataframe tbody tr th:only-of-type {\n",
       "        vertical-align: middle;\n",
       "    }\n",
       "\n",
       "    .dataframe tbody tr th {\n",
       "        vertical-align: top;\n",
       "    }\n",
       "\n",
       "    .dataframe thead th {\n",
       "        text-align: right;\n",
       "    }\n",
       "</style>\n",
       "<table border=\"1\" class=\"dataframe\">\n",
       "  <thead>\n",
       "    <tr style=\"text-align: right;\">\n",
       "      <th></th>\n",
       "      <th>B</th>\n",
       "    </tr>\n",
       "  </thead>\n",
       "  <tbody>\n",
       "    <tr>\n",
       "      <th>0</th>\n",
       "      <td>0.14</td>\n",
       "    </tr>\n",
       "    <tr>\n",
       "      <th>1</th>\n",
       "      <td>0.15</td>\n",
       "    </tr>\n",
       "    <tr>\n",
       "      <th>2</th>\n",
       "      <td>0.31</td>\n",
       "    </tr>\n",
       "    <tr>\n",
       "      <th>3</th>\n",
       "      <td>0.16</td>\n",
       "    </tr>\n",
       "    <tr>\n",
       "      <th>4</th>\n",
       "      <td>0.37</td>\n",
       "    </tr>\n",
       "  </tbody>\n",
       "</table>\n",
       "</div>"
      ],
      "text/plain": [
       "      B\n",
       "0  0.14\n",
       "1  0.15\n",
       "2  0.31\n",
       "3  0.16\n",
       "4  0.37"
      ]
     },
     "execution_count": 20,
     "metadata": {},
     "output_type": "execute_result"
    }
   ],
   "source": [
    "df_B = pd.read_csv('B+shingles.csv')\n",
    "df_B.head()"
   ]
  },
  {
   "cell_type": "code",
   "execution_count": 21,
   "metadata": {},
   "outputs": [
    {
     "name": "stdout",
     "output_type": "stream",
     "text": [
      "One sample t test \n",
      "t statistic: [-3.10033131] p value: [0.00418095] \n"
     ]
    }
   ],
   "source": [
    "t_statistic, p_value = ttest_1samp(df_B, 0.35)\n",
    "print('One sample t test \\nt statistic: {0} p value: {1} '.format(t_statistic, p_value))"
   ]
  },
  {
   "cell_type": "code",
   "execution_count": 22,
   "metadata": {},
   "outputs": [
    {
     "name": "stdout",
     "output_type": "stream",
     "text": [
      "Level of significance: 0.05\n",
      "We have evidence to reject the null hypothesis since p value < Level of significance\n",
      "Our one-sample t-test p-value= [0.00418095]\n"
     ]
    }
   ],
   "source": [
    "alpha_value = 0.05 # Level of significance\n",
    "print('Level of significance: %.2f' %alpha_value)\n",
    "if p_value < alpha_value: \n",
    "    print('We have evidence to reject the null hypothesis since p value < Level of significance')\n",
    "else:\n",
    "    print('We have no evidence to reject the null hypothesis since p value > Level of significance') \n",
    "\n",
    "print (\"Our one-sample t-test p-value=\", p_value)"
   ]
  },
  {
   "cell_type": "markdown",
   "metadata": {},
   "source": [
    "In this example, p value is 0.00418095 and it is lesser than 5% level of significance\n",
    "\n",
    "So the statistical decision is to reject the null hypothesis at 5% level of significance.\n",
    "\n",
    "### So at 95% confidence level, there is sufficient evidence  to prove that mean moisture contents in B types of shingles is not within the permissible limits of 0.35"
   ]
  },
  {
   "cell_type": "markdown",
   "metadata": {},
   "source": [
    "# 3.2 Do you think that the population means for shingles A and B are equal? Form the hypothesis and conduct the test of the hypothesis. What assumption do you need to check before the test for equality of means is performed?"
   ]
  },
  {
   "cell_type": "markdown",
   "metadata": {},
   "source": [
    "Here we have to assume that the data values are continuous, the variance is equal and are normally distributed to conduct the t test. \n",
    "\n",
    "The null and alternative hypothesis formed are:\n",
    "\n",
    "𝐻0 : 𝜇𝐴 - 𝜇𝐵 ≠ 0 i.e 𝜇𝐴 ≠ 𝜇𝐵\n",
    "\n",
    "𝐻𝐴: 𝜇𝐴 - 𝜇𝐵 = 0 i.e 𝜇𝐴 = 𝜇𝐵\n",
    "\n",
    "Here we select $\\alpha$ = 0.05 and the population standard deviation is not known.\n",
    "\n",
    "We also have two samples and we do not know the population standard deviation.\n",
    "The sample is large sample, n > 30. So we use the t distribution and the  𝑡𝑆𝑇𝐴𝑇  test statistic for two sample unpaired test which can be see used below"
   ]
  },
  {
   "cell_type": "code",
   "execution_count": 23,
   "metadata": {},
   "outputs": [
    {
     "name": "stdout",
     "output_type": "stream",
     "text": [
      "tstat 1.2896282719661123\n",
      "P Value 0.2017496571835306\n"
     ]
    }
   ],
   "source": [
    "t_statistic, p_value  = ttest_ind(shgl['A'],shgl['B'], nan_policy = 'omit')\n",
    "print('tstat',t_statistic)    \n",
    "print('P Value',p_value) "
   ]
  },
  {
   "cell_type": "code",
   "execution_count": 24,
   "metadata": {},
   "outputs": [
    {
     "name": "stdout",
     "output_type": "stream",
     "text": [
      "Two-sample t-test p-value= 0.2017496571835306\n",
      "We do not have enough evidence to reject the null hypothesis in favour of alternative hypothesis\n",
      "We conclude that population means for shingles A and B are not equal.\n"
     ]
    }
   ],
   "source": [
    "print (\"Two-sample t-test p-value=\", p_value)\n",
    "\n",
    "alpha_level = 0.05\n",
    "\n",
    "if p_value < alpha_level:\n",
    "    print('We have enough evidence to reject the null hypothesis in favour of alternative hypothesis')\n",
    "    print('We conclude that the population means for shingles A and B are equal.')\n",
    "else:\n",
    "    print('We do not have enough evidence to reject the null hypothesis in favour of alternative hypothesis')\n",
    "    print('We conclude that population means for shingles A and B are not equal.')"
   ]
  },
  {
   "attachments": {
    "image.png": {
     "image/png": "[encoded data removed]"
    }
   },
   "cell_type": "markdown",
   "metadata": {},
   "source": [
    "We have also cross checked the p-value and test statistic values using the below function in excel \n",
    "\n",
    "![image.png](attachment:image.png)"
   ]
  }
 ],
 "metadata": {
  "kernelspec": {
   "display_name": "Python 3",
   "language": "python",
   "name": "python3"
  },
  "language_info": {
   "codemirror_mode": {
    "name": "ipython",
    "version": 3
   },
   "file_extension": ".py",
   "mimetype": "text/x-python",
   "name": "python",
   "nbconvert_exporter": "python",
   "pygments_lexer": "ipython3",
   "version": "3.8.5"
  }
 },
 "nbformat": 4,
 "nbformat_minor": 4
}
